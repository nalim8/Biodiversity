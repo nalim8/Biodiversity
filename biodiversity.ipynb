{
 "cells": [
  {
   "cell_type": "code",
   "execution_count": 41,
   "metadata": {},
   "outputs": [],
   "source": [
    "import numpy as np\n",
    "import pandas as pd\n",
    "from matplotlib import pyplot as plt\n",
    "import seaborn as sns\n",
    "import warnings\n",
    "warnings.simplefilter(action='ignore', category=FutureWarning)"
   ]
  },
  {
   "cell_type": "markdown",
   "metadata": {},
   "source": [
    "# Data Cleansing"
   ]
  },
  {
   "cell_type": "code",
   "execution_count": 50,
   "metadata": {},
   "outputs": [],
   "source": [
    "species = pd.read_csv('species_info.csv')\n",
    "observ = pd.read_csv('observations.csv')"
   ]
  },
  {
   "cell_type": "markdown",
   "metadata": {},
   "source": [
    "## Species table"
   ]
  },
  {
   "cell_type": "code",
   "execution_count": 59,
   "metadata": {},
   "outputs": [
    {
     "name": "stdout",
     "output_type": "stream",
     "text": [
      "<class 'pandas.core.frame.DataFrame'>\n",
      "RangeIndex: 5824 entries, 0 to 5823\n",
      "Data columns (total 4 columns):\n",
      "Category               5824 non-null object\n",
      "Scientific Name        5824 non-null object\n",
      "Common Name            5824 non-null object\n",
      "Conservation Status    191 non-null object\n",
      "dtypes: object(4)\n",
      "memory usage: 182.1+ KB\n"
     ]
    }
   ],
   "source": [
    "species.info()"
   ]
  },
  {
   "cell_type": "code",
   "execution_count": 51,
   "metadata": {},
   "outputs": [
    {
     "data": {
      "text/plain": [
       "Index(['category', 'scientific_name', 'common_names', 'conservation_status'], dtype='object')"
      ]
     },
     "execution_count": 51,
     "metadata": {},
     "output_type": "execute_result"
    }
   ],
   "source": [
    "species.columns"
   ]
  },
  {
   "cell_type": "code",
   "execution_count": 54,
   "metadata": {},
   "outputs": [],
   "source": [
    "species = species.rename(columns={'category':'Category', 'scientific_name':'Scientific Name', 'common_names':'Common Name', 'conservation_status':'Conservation Status'})"
   ]
  },
  {
   "cell_type": "code",
   "execution_count": 102,
   "metadata": {},
   "outputs": [
    {
     "data": {
      "text/plain": [
       "False    5824\n",
       "dtype: int64"
      ]
     },
     "execution_count": 102,
     "metadata": {},
     "output_type": "execute_result"
    }
   ],
   "source": [
    "species.duplicated().value_counts()"
   ]
  },
  {
   "cell_type": "code",
   "execution_count": 105,
   "metadata": {},
   "outputs": [],
   "source": [
    "species = species.fillna(value={'Conservation Status':'not endangered'})"
   ]
  },
  {
   "cell_type": "code",
   "execution_count": 106,
   "metadata": {},
   "outputs": [
    {
     "data": {
      "text/html": [
       "<div>\n",
       "<style>\n",
       "    .dataframe thead tr:only-child th {\n",
       "        text-align: right;\n",
       "    }\n",
       "\n",
       "    .dataframe thead th {\n",
       "        text-align: left;\n",
       "    }\n",
       "\n",
       "    .dataframe tbody tr th {\n",
       "        vertical-align: top;\n",
       "    }\n",
       "</style>\n",
       "<table border=\"1\" class=\"dataframe\">\n",
       "  <thead>\n",
       "    <tr style=\"text-align: right;\">\n",
       "      <th></th>\n",
       "      <th>Category</th>\n",
       "      <th>Scientific Name</th>\n",
       "      <th>Common Name</th>\n",
       "      <th>Conservation Status</th>\n",
       "    </tr>\n",
       "  </thead>\n",
       "  <tbody>\n",
       "    <tr>\n",
       "      <th>0</th>\n",
       "      <td>Mammal</td>\n",
       "      <td>Clethrionomys gapperi gapperi</td>\n",
       "      <td>Gapper's Red-Backed Vole</td>\n",
       "      <td>not endangered</td>\n",
       "    </tr>\n",
       "    <tr>\n",
       "      <th>1</th>\n",
       "      <td>Mammal</td>\n",
       "      <td>Bos bison</td>\n",
       "      <td>American Bison, Bison</td>\n",
       "      <td>not endangered</td>\n",
       "    </tr>\n",
       "    <tr>\n",
       "      <th>2</th>\n",
       "      <td>Mammal</td>\n",
       "      <td>Bos taurus</td>\n",
       "      <td>Aurochs, Aurochs, Domestic Cattle (Feral), Dom...</td>\n",
       "      <td>not endangered</td>\n",
       "    </tr>\n",
       "    <tr>\n",
       "      <th>3</th>\n",
       "      <td>Mammal</td>\n",
       "      <td>Ovis aries</td>\n",
       "      <td>Domestic Sheep, Mouflon, Red Sheep, Sheep (Feral)</td>\n",
       "      <td>not endangered</td>\n",
       "    </tr>\n",
       "    <tr>\n",
       "      <th>4</th>\n",
       "      <td>Mammal</td>\n",
       "      <td>Cervus elaphus</td>\n",
       "      <td>Wapiti Or Elk</td>\n",
       "      <td>not endangered</td>\n",
       "    </tr>\n",
       "  </tbody>\n",
       "</table>\n",
       "</div>"
      ],
      "text/plain": [
       "  Category                Scientific Name  \\\n",
       "0   Mammal  Clethrionomys gapperi gapperi   \n",
       "1   Mammal                      Bos bison   \n",
       "2   Mammal                     Bos taurus   \n",
       "3   Mammal                     Ovis aries   \n",
       "4   Mammal                 Cervus elaphus   \n",
       "\n",
       "                                         Common Name Conservation Status  \n",
       "0                           Gapper's Red-Backed Vole      not endangered  \n",
       "1                              American Bison, Bison      not endangered  \n",
       "2  Aurochs, Aurochs, Domestic Cattle (Feral), Dom...      not endangered  \n",
       "3  Domestic Sheep, Mouflon, Red Sheep, Sheep (Feral)      not endangered  \n",
       "4                                      Wapiti Or Elk      not endangered  "
      ]
     },
     "execution_count": 106,
     "metadata": {},
     "output_type": "execute_result"
    }
   ],
   "source": [
    "species.head()"
   ]
  },
  {
   "cell_type": "code",
   "execution_count": 61,
   "metadata": {},
   "outputs": [
    {
     "data": {
      "text/html": [
       "<div>\n",
       "<style>\n",
       "    .dataframe thead tr:only-child th {\n",
       "        text-align: right;\n",
       "    }\n",
       "\n",
       "    .dataframe thead th {\n",
       "        text-align: left;\n",
       "    }\n",
       "\n",
       "    .dataframe tbody tr th {\n",
       "        vertical-align: top;\n",
       "    }\n",
       "</style>\n",
       "<table border=\"1\" class=\"dataframe\">\n",
       "  <thead>\n",
       "    <tr style=\"text-align: right;\">\n",
       "      <th></th>\n",
       "      <th>Category</th>\n",
       "      <th>Scientific Name</th>\n",
       "      <th>Common Name</th>\n",
       "      <th>Conservation Status</th>\n",
       "    </tr>\n",
       "  </thead>\n",
       "  <tbody>\n",
       "    <tr>\n",
       "      <th>count</th>\n",
       "      <td>5824</td>\n",
       "      <td>5824</td>\n",
       "      <td>5824</td>\n",
       "      <td>191</td>\n",
       "    </tr>\n",
       "    <tr>\n",
       "      <th>unique</th>\n",
       "      <td>7</td>\n",
       "      <td>5541</td>\n",
       "      <td>5504</td>\n",
       "      <td>4</td>\n",
       "    </tr>\n",
       "    <tr>\n",
       "      <th>top</th>\n",
       "      <td>Vascular Plant</td>\n",
       "      <td>Holcus lanatus</td>\n",
       "      <td>Brachythecium Moss</td>\n",
       "      <td>Species of Concern</td>\n",
       "    </tr>\n",
       "    <tr>\n",
       "      <th>freq</th>\n",
       "      <td>4470</td>\n",
       "      <td>3</td>\n",
       "      <td>7</td>\n",
       "      <td>161</td>\n",
       "    </tr>\n",
       "  </tbody>\n",
       "</table>\n",
       "</div>"
      ],
      "text/plain": [
       "              Category Scientific Name         Common Name Conservation Status\n",
       "count             5824            5824                5824                 191\n",
       "unique               7            5541                5504                   4\n",
       "top     Vascular Plant  Holcus lanatus  Brachythecium Moss  Species of Concern\n",
       "freq              4470               3                   7                 161"
      ]
     },
     "execution_count": 61,
     "metadata": {},
     "output_type": "execute_result"
    }
   ],
   "source": [
    "species.describe()"
   ]
  },
  {
   "cell_type": "markdown",
   "metadata": {},
   "source": [
    "## Observations table"
   ]
  },
  {
   "cell_type": "code",
   "execution_count": 103,
   "metadata": {},
   "outputs": [
    {
     "name": "stdout",
     "output_type": "stream",
     "text": [
      "<class 'pandas.core.frame.DataFrame'>\n",
      "Int64Index: 23281 entries, 0 to 23295\n",
      "Data columns (total 3 columns):\n",
      "Scientific Name    23281 non-null object\n",
      "Park Name          23281 non-null object\n",
      "Observations       23281 non-null int64\n",
      "dtypes: int64(1), object(2)\n",
      "memory usage: 727.5+ KB\n"
     ]
    }
   ],
   "source": [
    "observ.info()"
   ]
  },
  {
   "cell_type": "code",
   "execution_count": 56,
   "metadata": {},
   "outputs": [
    {
     "data": {
      "text/plain": [
       "Index(['scientific_name', 'park_name', 'observations'], dtype='object')"
      ]
     },
     "execution_count": 56,
     "metadata": {},
     "output_type": "execute_result"
    }
   ],
   "source": [
    "observ.columns"
   ]
  },
  {
   "cell_type": "code",
   "execution_count": 57,
   "metadata": {},
   "outputs": [],
   "source": [
    "observ = observ.rename(columns={'scientific_name':'Scientific Name', 'park_name':'Park Name', 'observations':'Observations'})"
   ]
  },
  {
   "cell_type": "code",
   "execution_count": 58,
   "metadata": {},
   "outputs": [
    {
     "data": {
      "text/html": [
       "<div>\n",
       "<style>\n",
       "    .dataframe thead tr:only-child th {\n",
       "        text-align: right;\n",
       "    }\n",
       "\n",
       "    .dataframe thead th {\n",
       "        text-align: left;\n",
       "    }\n",
       "\n",
       "    .dataframe tbody tr th {\n",
       "        vertical-align: top;\n",
       "    }\n",
       "</style>\n",
       "<table border=\"1\" class=\"dataframe\">\n",
       "  <thead>\n",
       "    <tr style=\"text-align: right;\">\n",
       "      <th></th>\n",
       "      <th>Scientific Name</th>\n",
       "      <th>Park Name</th>\n",
       "      <th>Observations</th>\n",
       "    </tr>\n",
       "  </thead>\n",
       "  <tbody>\n",
       "    <tr>\n",
       "      <th>0</th>\n",
       "      <td>Vicia benghalensis</td>\n",
       "      <td>Great Smoky Mountains National Park</td>\n",
       "      <td>68</td>\n",
       "    </tr>\n",
       "    <tr>\n",
       "      <th>1</th>\n",
       "      <td>Neovison vison</td>\n",
       "      <td>Great Smoky Mountains National Park</td>\n",
       "      <td>77</td>\n",
       "    </tr>\n",
       "    <tr>\n",
       "      <th>2</th>\n",
       "      <td>Prunus subcordata</td>\n",
       "      <td>Yosemite National Park</td>\n",
       "      <td>138</td>\n",
       "    </tr>\n",
       "    <tr>\n",
       "      <th>3</th>\n",
       "      <td>Abutilon theophrasti</td>\n",
       "      <td>Bryce National Park</td>\n",
       "      <td>84</td>\n",
       "    </tr>\n",
       "    <tr>\n",
       "      <th>4</th>\n",
       "      <td>Githopsis specularioides</td>\n",
       "      <td>Great Smoky Mountains National Park</td>\n",
       "      <td>85</td>\n",
       "    </tr>\n",
       "  </tbody>\n",
       "</table>\n",
       "</div>"
      ],
      "text/plain": [
       "            Scientific Name                            Park Name  Observations\n",
       "0        Vicia benghalensis  Great Smoky Mountains National Park            68\n",
       "1            Neovison vison  Great Smoky Mountains National Park            77\n",
       "2         Prunus subcordata               Yosemite National Park           138\n",
       "3      Abutilon theophrasti                  Bryce National Park            84\n",
       "4  Githopsis specularioides  Great Smoky Mountains National Park            85"
      ]
     },
     "execution_count": 58,
     "metadata": {},
     "output_type": "execute_result"
    }
   ],
   "source": [
    "observ.head()"
   ]
  },
  {
   "cell_type": "code",
   "execution_count": 99,
   "metadata": {},
   "outputs": [
    {
     "data": {
      "text/plain": [
       "False    23281\n",
       "True        15\n",
       "dtype: int64"
      ]
     },
     "execution_count": 99,
     "metadata": {},
     "output_type": "execute_result"
    }
   ],
   "source": [
    "observ.duplicated().value_counts()"
   ]
  },
  {
   "cell_type": "code",
   "execution_count": 100,
   "metadata": {},
   "outputs": [],
   "source": [
    "observ = observ.drop_duplicates()"
   ]
  },
  {
   "cell_type": "code",
   "execution_count": 104,
   "metadata": {},
   "outputs": [
    {
     "data": {
      "text/html": [
       "<div>\n",
       "<style>\n",
       "    .dataframe thead tr:only-child th {\n",
       "        text-align: right;\n",
       "    }\n",
       "\n",
       "    .dataframe thead th {\n",
       "        text-align: left;\n",
       "    }\n",
       "\n",
       "    .dataframe tbody tr th {\n",
       "        vertical-align: top;\n",
       "    }\n",
       "</style>\n",
       "<table border=\"1\" class=\"dataframe\">\n",
       "  <thead>\n",
       "    <tr style=\"text-align: right;\">\n",
       "      <th></th>\n",
       "      <th>Observations</th>\n",
       "    </tr>\n",
       "  </thead>\n",
       "  <tbody>\n",
       "    <tr>\n",
       "      <th>count</th>\n",
       "      <td>23281.000000</td>\n",
       "    </tr>\n",
       "    <tr>\n",
       "      <th>mean</th>\n",
       "      <td>142.280357</td>\n",
       "    </tr>\n",
       "    <tr>\n",
       "      <th>std</th>\n",
       "      <td>69.885439</td>\n",
       "    </tr>\n",
       "    <tr>\n",
       "      <th>min</th>\n",
       "      <td>9.000000</td>\n",
       "    </tr>\n",
       "    <tr>\n",
       "      <th>25%</th>\n",
       "      <td>86.000000</td>\n",
       "    </tr>\n",
       "    <tr>\n",
       "      <th>50%</th>\n",
       "      <td>124.000000</td>\n",
       "    </tr>\n",
       "    <tr>\n",
       "      <th>75%</th>\n",
       "      <td>195.000000</td>\n",
       "    </tr>\n",
       "    <tr>\n",
       "      <th>max</th>\n",
       "      <td>321.000000</td>\n",
       "    </tr>\n",
       "  </tbody>\n",
       "</table>\n",
       "</div>"
      ],
      "text/plain": [
       "       Observations\n",
       "count  23281.000000\n",
       "mean     142.280357\n",
       "std       69.885439\n",
       "min        9.000000\n",
       "25%       86.000000\n",
       "50%      124.000000\n",
       "75%      195.000000\n",
       "max      321.000000"
      ]
     },
     "execution_count": 104,
     "metadata": {},
     "output_type": "execute_result"
    }
   ],
   "source": [
    "observ.describe()"
   ]
  },
  {
   "cell_type": "code",
   "execution_count": 65,
   "metadata": {
    "collapsed": true
   },
   "outputs": [
    {
     "data": {
      "text/plain": [
       "Holcus lanatus                                   3\n",
       "Myotis lucifugus                                 3\n",
       "Canis lupus                                      3\n",
       "Streptopelia decaocto                            3\n",
       "Castor canadensis                                3\n",
       "Puma concolor                                    3\n",
       "Procyon lotor                                    3\n",
       "Hypochaeris radicata                             3\n",
       "Columba livia                                    3\n",
       "Orobanche uniflora                               2\n",
       "Mimus polyglottos                                2\n",
       "Hypericum perforatum                             2\n",
       "Apocynum androsaemifolium                        2\n",
       "Oxalis corniculata                               2\n",
       "Elodea nuttallii                                 2\n",
       "Lanius excubitor                                 2\n",
       "Bromus secalinus                                 2\n",
       "Mentha arvensis                                  2\n",
       "Parietaria pensylvanica                          2\n",
       "Lamium amplexicaule                              2\n",
       "Erethizon dorsatum                               2\n",
       "Charina bottae                                   2\n",
       "Conyza canadensis                                2\n",
       "Dianthus barbatus                                2\n",
       "Erigeron annuus                                  2\n",
       "Chen caerulescens                                2\n",
       "Veronica anagallis-aquatica                      2\n",
       "Centaurea cyanus                                 2\n",
       "Salvelinus fontinalis                            2\n",
       "Stellaria longifolia                             2\n",
       "                                                ..\n",
       "Thamnophis couchii                               1\n",
       "Gymnopogon ambiguus                              1\n",
       "Oenothera biennis                                1\n",
       "Perdix perdix                                    1\n",
       "Astragalus bolanderi                             1\n",
       "Chaenactis glabriuscula var. glabriuscula        1\n",
       "Physostegia virginiana                           1\n",
       "Prunus subcordata                                1\n",
       "Crepis occidentalis                              1\n",
       "Carex striatula                                  1\n",
       "Lepomis macrochirus                              1\n",
       "Rhamnus rubra                                    1\n",
       "Hydrophyllum macrophyllum                        1\n",
       "Penstemon aridus                                 1\n",
       "Corallorrhiza odontorhiza                        1\n",
       "Oreoscoptes montanus                             1\n",
       "Phoradendron villosum                            1\n",
       "Ranunculus hyperboreus                           1\n",
       "Carex tribuloides                                1\n",
       "Pipilo erythrophthalmus                          1\n",
       "Anacamptodon splachnoides                        1\n",
       "Calochortus minimus                              1\n",
       "Viola septentrionalis                            1\n",
       "Carex fracta                                     1\n",
       "Tympanuchus phasianellus                         1\n",
       "Malva parviflora                                 1\n",
       "Cardaria draba                                   1\n",
       "Symphyotrichum lateriflorum var. lateriflorum    1\n",
       "Eriogonum ovalifolium var. nivale                1\n",
       "Anthus spinoletta                                1\n",
       "Name: Scientific Name, Length: 5541, dtype: int64"
      ]
     },
     "execution_count": 65,
     "metadata": {},
     "output_type": "execute_result"
    }
   ],
   "source": [
    "species['Scientific Name'].value_counts()"
   ]
  },
  {
   "cell_type": "code",
   "execution_count": 66,
   "metadata": {
    "collapsed": true
   },
   "outputs": [
    {
     "data": {
      "text/plain": [
       "Hypochaeris radicata                             12\n",
       "Myotis lucifugus                                 12\n",
       "Holcus lanatus                                   12\n",
       "Procyon lotor                                    12\n",
       "Columba livia                                    12\n",
       "Castor canadensis                                12\n",
       "Canis lupus                                      12\n",
       "Puma concolor                                    12\n",
       "Streptopelia decaocto                            12\n",
       "Bromus secalinus                                  8\n",
       "Danthonia spicata                                 8\n",
       "Sisymbrium officinale                             8\n",
       "Sorex hoyi                                        8\n",
       "Setaria pumila                                    8\n",
       "Charina bottae                                    8\n",
       "Poa palustris                                     8\n",
       "Conyza canadensis                                 8\n",
       "Ranunculus repens                                 8\n",
       "Agrostis mertensii                                8\n",
       "Agrostis stolonifera                              8\n",
       "Rorippa palustris ssp. fernaldiana                8\n",
       "Ambrosia artemisiifolia                           8\n",
       "Orobanche uniflora                                8\n",
       "Oxalis corniculata                                8\n",
       "Phalaris arundinacea                              8\n",
       "Lanius excubitor                                  8\n",
       "Salix exigua                                      8\n",
       "Eleocharis acicularis                             8\n",
       "Melilotus officinalis                             8\n",
       "Callitriche heterophylla                          8\n",
       "                                                 ..\n",
       "Lysimachia hybrida                                4\n",
       "Perilla frutescens                                4\n",
       "Symphyotrichum lateriflorum var. lateriflorum     4\n",
       "Polytrichum commune                               4\n",
       "Zonotrichia albicollis                            4\n",
       "Carex striatula                                   4\n",
       "Crepis atribarba                                  4\n",
       "Vireo flavifrons                                  4\n",
       "Anacamptodon splachnoides                         4\n",
       "Celastrus orbiculatus                             4\n",
       "Loxia curvirostra                                 4\n",
       "Ranunculus hyperboreus                            4\n",
       "Bromus orcuttianus                                4\n",
       "Polygonum cespitosum                              4\n",
       "Hemizonia kelloggii                               4\n",
       "Carex pachystachya                                4\n",
       "Platygyrium repens                                4\n",
       "Achnatherum richardsonii                          4\n",
       "Calochortus venustus                              4\n",
       "Lilium canadense ssp. editorum                    4\n",
       "Clasmatodon parvulus                              4\n",
       "Plethodon oconaluftee                             4\n",
       "Viola macloskeyi ssp. pallens                     4\n",
       "Dendroica discolor                                4\n",
       "Eclipta prostrata                                 4\n",
       "Hydrophyllum macrophyllum                         4\n",
       "Penstemon aridus                                  4\n",
       "Krigia biflora                                    4\n",
       "Phoradendron villosum                             4\n",
       "Dicentra chrysantha                               4\n",
       "Name: Scientific Name, Length: 5541, dtype: int64"
      ]
     },
     "execution_count": 66,
     "metadata": {},
     "output_type": "execute_result"
    }
   ],
   "source": [
    "observ['Scientific Name'].value_counts()"
   ]
  },
  {
   "cell_type": "code",
   "execution_count": 67,
   "metadata": {
    "scrolled": true
   },
   "outputs": [
    {
     "data": {
      "text/plain": [
       "Yosemite National Park                 5824\n",
       "Yellowstone National Park              5824\n",
       "Bryce National Park                    5824\n",
       "Great Smoky Mountains National Park    5824\n",
       "Name: Park Name, dtype: int64"
      ]
     },
     "execution_count": 67,
     "metadata": {},
     "output_type": "execute_result"
    }
   ],
   "source": [
    "observ['Park Name'].value_counts()"
   ]
  },
  {
   "cell_type": "code",
   "execution_count": 68,
   "metadata": {},
   "outputs": [
    {
     "data": {
      "text/html": [
       "<div>\n",
       "<style>\n",
       "    .dataframe thead tr:only-child th {\n",
       "        text-align: right;\n",
       "    }\n",
       "\n",
       "    .dataframe thead th {\n",
       "        text-align: left;\n",
       "    }\n",
       "\n",
       "    .dataframe tbody tr th {\n",
       "        vertical-align: top;\n",
       "    }\n",
       "</style>\n",
       "<table border=\"1\" class=\"dataframe\">\n",
       "  <thead>\n",
       "    <tr style=\"text-align: right;\">\n",
       "      <th></th>\n",
       "      <th>Observations</th>\n",
       "    </tr>\n",
       "    <tr>\n",
       "      <th>Scientific Name</th>\n",
       "      <th></th>\n",
       "    </tr>\n",
       "  </thead>\n",
       "  <tbody>\n",
       "    <tr>\n",
       "      <th>Streptopelia decaocto</th>\n",
       "      <td>1785</td>\n",
       "    </tr>\n",
       "    <tr>\n",
       "      <th>Holcus lanatus</th>\n",
       "      <td>1780</td>\n",
       "    </tr>\n",
       "    <tr>\n",
       "      <th>Castor canadensis</th>\n",
       "      <td>1725</td>\n",
       "    </tr>\n",
       "    <tr>\n",
       "      <th>Hypochaeris radicata</th>\n",
       "      <td>1720</td>\n",
       "    </tr>\n",
       "    <tr>\n",
       "      <th>Puma concolor</th>\n",
       "      <td>1711</td>\n",
       "    </tr>\n",
       "  </tbody>\n",
       "</table>\n",
       "</div>"
      ],
      "text/plain": [
       "                       Observations\n",
       "Scientific Name                    \n",
       "Streptopelia decaocto          1785\n",
       "Holcus lanatus                 1780\n",
       "Castor canadensis              1725\n",
       "Hypochaeris radicata           1720\n",
       "Puma concolor                  1711"
      ]
     },
     "execution_count": 68,
     "metadata": {},
     "output_type": "execute_result"
    }
   ],
   "source": [
    "observ.groupby('Scientific Name').sum().sort_values(by='Observations', ascending=False).head()"
   ]
  },
  {
   "cell_type": "markdown",
   "metadata": {},
   "source": [
    "Considering all National Parks together, the species \"Streptopelia decaocto\" was observed the most."
   ]
  },
  {
   "cell_type": "code",
   "execution_count": 70,
   "metadata": {},
   "outputs": [
    {
     "data": {
      "text/html": [
       "<div>\n",
       "<style>\n",
       "    .dataframe thead tr:only-child th {\n",
       "        text-align: right;\n",
       "    }\n",
       "\n",
       "    .dataframe thead th {\n",
       "        text-align: left;\n",
       "    }\n",
       "\n",
       "    .dataframe tbody tr th {\n",
       "        vertical-align: top;\n",
       "    }\n",
       "</style>\n",
       "<table border=\"1\" class=\"dataframe\">\n",
       "  <thead>\n",
       "    <tr style=\"text-align: right;\">\n",
       "      <th></th>\n",
       "      <th></th>\n",
       "      <th>Observations</th>\n",
       "    </tr>\n",
       "    <tr>\n",
       "      <th>Park Name</th>\n",
       "      <th>Scientific Name</th>\n",
       "      <th></th>\n",
       "    </tr>\n",
       "  </thead>\n",
       "  <tbody>\n",
       "    <tr>\n",
       "      <th rowspan=\"5\" valign=\"top\">Yellowstone National Park</th>\n",
       "      <th>Holcus lanatus</th>\n",
       "      <td>805</td>\n",
       "    </tr>\n",
       "    <tr>\n",
       "      <th>Streptopelia decaocto</th>\n",
       "      <td>771</td>\n",
       "    </tr>\n",
       "    <tr>\n",
       "      <th>Puma concolor</th>\n",
       "      <td>753</td>\n",
       "    </tr>\n",
       "    <tr>\n",
       "      <th>Procyon lotor</th>\n",
       "      <td>745</td>\n",
       "    </tr>\n",
       "    <tr>\n",
       "      <th>Hypochaeris radicata</th>\n",
       "      <td>726</td>\n",
       "    </tr>\n",
       "  </tbody>\n",
       "</table>\n",
       "</div>"
      ],
      "text/plain": [
       "                                                 Observations\n",
       "Park Name                 Scientific Name                    \n",
       "Yellowstone National Park Holcus lanatus                  805\n",
       "                          Streptopelia decaocto           771\n",
       "                          Puma concolor                   753\n",
       "                          Procyon lotor                   745\n",
       "                          Hypochaeris radicata            726"
      ]
     },
     "execution_count": 70,
     "metadata": {},
     "output_type": "execute_result"
    }
   ],
   "source": [
    "observ.groupby(['Park Name', 'Scientific Name']).sum().sort_values(by='Observations', ascending=False).head()"
   ]
  },
  {
   "cell_type": "code",
   "execution_count": 92,
   "metadata": {},
   "outputs": [],
   "source": [
    "group_park = observ.groupby(['Park Name', 'Scientific Name']).sum().sort_values(by='Observations', ascending=False)"
   ]
  },
  {
   "cell_type": "markdown",
   "metadata": {},
   "source": [
    "# Analysis"
   ]
  },
  {
   "cell_type": "markdown",
   "metadata": {},
   "source": [
    "## In which park most oberservations were made?"
   ]
  },
  {
   "cell_type": "code",
   "execution_count": 69,
   "metadata": {},
   "outputs": [
    {
     "data": {
      "text/plain": [
       "<matplotlib.axes._subplots.AxesSubplot at 0x237eb4a9278>"
      ]
     },
     "execution_count": 69,
     "metadata": {},
     "output_type": "execute_result"
    },
    {
     "data": {
      "image/png": "[encoded data removed]",
      "text/plain": [
       "<Figure size 432x288 with 1 Axes>"
      ]
     },
     "metadata": {
      "needs_background": "light"
     },
     "output_type": "display_data"
    }
   ],
   "source": [
    "sns.barplot(data=observ, x='Park Name', y='Observations')"
   ]
  },
  {
   "cell_type": "markdown",
   "metadata": {},
   "source": [
    "Most observations were made in Yellowstone National Park."
   ]
  },
  {
   "cell_type": "markdown",
   "metadata": {},
   "source": [
    "## Which park has the highest biodiversity? "
   ]
  },
  {
   "cell_type": "code",
   "execution_count": 95,
   "metadata": {},
   "outputs": [
    {
     "data": {
      "text/plain": [
       "5824"
      ]
     },
     "execution_count": 95,
     "metadata": {},
     "output_type": "execute_result"
    }
   ],
   "source": [
    "observ['Scientific Name'][observ['Park Name']=='Yellowstone National Park'].count()"
   ]
  },
  {
   "cell_type": "code",
   "execution_count": 94,
   "metadata": {},
   "outputs": [
    {
     "data": {
      "text/plain": [
       "5541"
      ]
     },
     "execution_count": 94,
     "metadata": {},
     "output_type": "execute_result"
    }
   ],
   "source": [
    "observ['Scientific Name'][observ['Park Name']=='Great Smoky Mountains National Park'].nunique()"
   ]
  },
  {
   "cell_type": "markdown",
   "metadata": {},
   "source": [
    "## Which species was obeserved the most?"
   ]
  },
  {
   "cell_type": "markdown",
   "metadata": {},
   "source": [
    "## How many species are endangered?"
   ]
  },
  {
   "cell_type": "markdown",
   "metadata": {},
   "source": [
    "## Which park has the most endangered species?"
   ]
  },
  {
   "cell_type": "markdown",
   "metadata": {},
   "source": [
    "## Which category has the most endangerd species?"
   ]
  },
  {
   "cell_type": "code",
   "execution_count": null,
   "metadata": {},
   "outputs": [],
   "source": []
  }
 ],
 "metadata": {
  "kernelspec": {
   "display_name": "Python 3",
   "language": "python",
   "name": "python3"
  },
  "language_info": {
   "codemirror_mode": {
    "name": "ipython",
    "version": 3
   },
   "file_extension": ".py",
   "mimetype": "text/x-python",
   "name": "python",
   "nbconvert_exporter": "python",
   "pygments_lexer": "ipython3",
   "version": "3.6.3"
  },
  "toc": {
   "base_numbering": 1,
   "nav_menu": {},
   "number_sections": true,
   "sideBar": true,
   "skip_h1_title": false,
   "title_cell": "Table of Contents",
   "title_sidebar": "Contents",
   "toc_cell": false,
   "toc_position": {},
   "toc_section_display": true,
   "toc_window_display": false
  }
 },
 "nbformat": 4,
 "nbformat_minor": 4
}
